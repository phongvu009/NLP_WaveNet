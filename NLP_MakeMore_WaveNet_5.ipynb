{
  "nbformat": 4,
  "nbformat_minor": 0,
  "metadata": {
    "colab": {
      "provenance": [],
      "authorship_tag": "ABX9TyM1XiwSkhQ3oot3v0HkfP2V",
      "include_colab_link": true
    },
    "kernelspec": {
      "name": "python3",
      "display_name": "Python 3"
    },
    "language_info": {
      "name": "python"
    }
  },
  "cells": [
    {
      "cell_type": "markdown",
      "metadata": {
        "id": "view-in-github",
        "colab_type": "text"
      },
      "source": [
        "<a href=\"https://colab.research.google.com/github/phongvu009/NLP_WaveNet/blob/main/NLP_MakeMore_WaveNet_5.ipynb\" target=\"_parent\"><img src=\"https://colab.research.google.com/assets/colab-badge.svg\" alt=\"Open In Colab\"/></a>"
      ]
    },
    {
      "cell_type": "code",
      "execution_count": 1,
      "metadata": {
        "colab": {
          "base_uri": "https://localhost:8080/",
          "height": 35
        },
        "id": "SKfs_Z_B0Pep",
        "outputId": "99fd39a3-f6e8-4a7a-87b5-5878fb0b648e"
      },
      "outputs": [
        {
          "output_type": "execute_result",
          "data": {
            "text/plain": [
              "'2.0.1+cu118'"
            ],
            "application/vnd.google.colaboratory.intrinsic+json": {
              "type": "string"
            }
          },
          "metadata": {},
          "execution_count": 1
        }
      ],
      "source": [
        "import torch\n",
        "torch.__version__"
      ]
    },
    {
      "cell_type": "code",
      "source": [
        "import pdb;"
      ],
      "metadata": {
        "id": "ivGBSP6vSgxi"
      },
      "execution_count": 33,
      "outputs": []
    },
    {
      "cell_type": "code",
      "source": [
        "import torch.nn.functional as F\n",
        "import matplotlib.pyplot as plt\n",
        "%matplotlib inline"
      ],
      "metadata": {
        "id": "HngnWH3D0X1L"
      },
      "execution_count": 2,
      "outputs": []
    },
    {
      "cell_type": "markdown",
      "source": [
        "## Data"
      ],
      "metadata": {
        "id": "q-zzlFC50htr"
      }
    },
    {
      "cell_type": "code",
      "source": [
        "# download the names.txt file from github\n",
        "!wget https://raw.githubusercontent.com/karpathy/makemore/master/names.txt"
      ],
      "metadata": {
        "colab": {
          "base_uri": "https://localhost:8080/"
        },
        "id": "EQ1V1t9C0juT",
        "outputId": "92bddd42-33a1-49c0-92d0-0440ef7b3f16"
      },
      "execution_count": 3,
      "outputs": [
        {
          "output_type": "stream",
          "name": "stdout",
          "text": [
            "--2023-08-09 15:01:31--  https://raw.githubusercontent.com/karpathy/makemore/master/names.txt\n",
            "Resolving raw.githubusercontent.com (raw.githubusercontent.com)... 185.199.110.133, 185.199.109.133, 185.199.108.133, ...\n",
            "Connecting to raw.githubusercontent.com (raw.githubusercontent.com)|185.199.110.133|:443... connected.\n",
            "HTTP request sent, awaiting response... 200 OK\n",
            "Length: 228145 (223K) [text/plain]\n",
            "Saving to: ‘names.txt’\n",
            "\n",
            "names.txt           100%[===================>] 222.80K  --.-KB/s    in 0.03s   \n",
            "\n",
            "2023-08-09 15:01:32 (8.08 MB/s) - ‘names.txt’ saved [228145/228145]\n",
            "\n"
          ]
        }
      ]
    },
    {
      "cell_type": "code",
      "source": [
        "#open file\n",
        "words = open('names.txt', mode='r').read().splitlines()\n",
        "words[:5]"
      ],
      "metadata": {
        "colab": {
          "base_uri": "https://localhost:8080/"
        },
        "id": "dXzPsWfg0mrZ",
        "outputId": "86f33784-e857-493d-d5bd-04b244c859bb"
      },
      "execution_count": 4,
      "outputs": [
        {
          "output_type": "execute_result",
          "data": {
            "text/plain": [
              "['emma', 'olivia', 'ava', 'isabella', 'sophia']"
            ]
          },
          "metadata": {},
          "execution_count": 4
        }
      ]
    },
    {
      "cell_type": "code",
      "source": [
        "#Create a list a unique character\n",
        "alphabets = sorted(list(set(''.join(words))))\n",
        "\n",
        "#A dict: character to index\n",
        "stoi = {char: idx+1 for idx , char in enumerate(alphabets) }\n",
        "#Add dot character\n",
        "stoi['.'] = 0\n",
        "\n",
        "#A dict: index to character\n",
        "itos =  {idx:char for char,idx in stoi.items() }\n",
        "print(itos)\n",
        "\n"
      ],
      "metadata": {
        "colab": {
          "base_uri": "https://localhost:8080/"
        },
        "id": "M1TBSvjK0zsc",
        "outputId": "fa3a309f-f3d6-4b9c-d0c2-da27d672596d"
      },
      "execution_count": 5,
      "outputs": [
        {
          "output_type": "stream",
          "name": "stdout",
          "text": [
            "{1: 'a', 2: 'b', 3: 'c', 4: 'd', 5: 'e', 6: 'f', 7: 'g', 8: 'h', 9: 'i', 10: 'j', 11: 'k', 12: 'l', 13: 'm', 14: 'n', 15: 'o', 16: 'p', 17: 'q', 18: 'r', 19: 's', 20: 't', 21: 'u', 22: 'v', 23: 'w', 24: 'x', 25: 'y', 26: 'z', 0: '.'}\n"
          ]
        }
      ]
    },
    {
      "cell_type": "markdown",
      "source": [
        "## Dataset"
      ],
      "metadata": {
        "id": "2szFuUJZ1y63"
      }
    },
    {
      "cell_type": "code",
      "source": [
        "#shuffle words\n",
        "import random\n",
        "random.seed(42)\n",
        "random.shuffle(words)"
      ],
      "metadata": {
        "id": "6xVSWkLW1t54"
      },
      "execution_count": 6,
      "outputs": []
    },
    {
      "cell_type": "code",
      "source": [
        "block_size = 8\n",
        "def build_dataset(words):\n",
        "  X,Y = [],[]\n",
        "  for word in words:\n",
        "    #start with 0\n",
        "    context = [0] * block_size\n",
        "    for char in word + '.':\n",
        "      #get index\n",
        "      idx = stoi[char]\n",
        "      X.append(context)\n",
        "      Y.append(idx)\n",
        "      #update context\n",
        "      context = context[1:] + [idx]\n",
        "  X = torch.tensor(X)\n",
        "  Y = torch.tensor(Y)\n",
        "  print(X.shape , Y.shape)\n",
        "  return X,Y"
      ],
      "metadata": {
        "id": "KedlDIqz2Ezb"
      },
      "execution_count": 7,
      "outputs": []
    },
    {
      "cell_type": "code",
      "source": [
        "#get index number to divide the data\n",
        "n_1 = int(0.8*len(words))\n",
        "print(n_1)\n",
        "\n",
        "n_2 = int(0.9*len(words))\n",
        "print(n_2)"
      ],
      "metadata": {
        "colab": {
          "base_uri": "https://localhost:8080/"
        },
        "id": "g3gjnLeE2_Mn",
        "outputId": "26222d76-2c3d-44ad-9151-d40b5ea5246d"
      },
      "execution_count": 8,
      "outputs": [
        {
          "output_type": "stream",
          "name": "stdout",
          "text": [
            "25626\n",
            "28829\n"
          ]
        }
      ]
    },
    {
      "cell_type": "code",
      "source": [
        "# 80% data for Training\n",
        "X_train, Y_train = build_dataset(words[:n_1])\n",
        "\n",
        "# 10% data for Validation\n",
        "X_dev, Y_dev = build_dataset(words[n_1:n_2])\n",
        "\n",
        "# 10% data for Testing\n",
        "X_test, Y_test = build_dataset(words[n_2:])"
      ],
      "metadata": {
        "colab": {
          "base_uri": "https://localhost:8080/"
        },
        "id": "OFX91ql33RoS",
        "outputId": "259ef9aa-7cf4-435c-9b79-eec4e82b94da"
      },
      "execution_count": 9,
      "outputs": [
        {
          "output_type": "stream",
          "name": "stdout",
          "text": [
            "torch.Size([182625, 8]) torch.Size([182625])\n",
            "torch.Size([22655, 8]) torch.Size([22655])\n",
            "torch.Size([22866, 8]) torch.Size([22866])\n"
          ]
        }
      ]
    },
    {
      "cell_type": "code",
      "source": [
        "#Example of some data for training\n",
        "for x,y in zip(X_train[:10],Y_train[:10]):\n",
        "  print( f' {[itos[xi.item()] for xi in x]} --- {itos[y.item()]}')\n"
      ],
      "metadata": {
        "colab": {
          "base_uri": "https://localhost:8080/"
        },
        "id": "PQWqYnyw3wHJ",
        "outputId": "8a2449b9-73a0-44df-f52a-562fb62d59c5"
      },
      "execution_count": 10,
      "outputs": [
        {
          "output_type": "stream",
          "name": "stdout",
          "text": [
            " ['.', '.', '.', '.', '.', '.', '.', '.'] --- y\n",
            " ['.', '.', '.', '.', '.', '.', '.', 'y'] --- u\n",
            " ['.', '.', '.', '.', '.', '.', 'y', 'u'] --- h\n",
            " ['.', '.', '.', '.', '.', 'y', 'u', 'h'] --- e\n",
            " ['.', '.', '.', '.', 'y', 'u', 'h', 'e'] --- n\n",
            " ['.', '.', '.', 'y', 'u', 'h', 'e', 'n'] --- g\n",
            " ['.', '.', 'y', 'u', 'h', 'e', 'n', 'g'] --- .\n",
            " ['.', '.', '.', '.', '.', '.', '.', '.'] --- d\n",
            " ['.', '.', '.', '.', '.', '.', '.', 'd'] --- i\n",
            " ['.', '.', '.', '.', '.', '.', 'd', 'i'] --- o\n"
          ]
        }
      ]
    },
    {
      "cell_type": "markdown",
      "source": [
        "## Pre_Training"
      ],
      "metadata": {
        "id": "QAxODAVz5aYR"
      }
    },
    {
      "cell_type": "code",
      "source": [
        "class Tanh:\n",
        "  def __call__(self,x):\n",
        "    self.out = torch.tanh(x)\n",
        "    return self.out\n",
        "\n",
        "  def parameters(self):\n",
        "    return []\n"
      ],
      "metadata": {
        "id": "QOU44_xCJdg4"
      },
      "execution_count": 11,
      "outputs": []
    },
    {
      "cell_type": "code",
      "source": [
        "class BatchNorm1d:\n",
        "  def __init__(self, dim, eps = 1e-3, momentum =0.1):\n",
        "    self.eps = eps\n",
        "    self.momentum = momentum\n",
        "    self.training = True\n",
        "    #param to shift,scale the bell curve\n",
        "    self.gamma =  torch.ones(dim)\n",
        "    self.beta  = torch.zeros(dim)\n",
        "    #buffers\n",
        "    self.running_mean = torch.zeros(dim)\n",
        "    self.running_var = torch.ones(dim)\n",
        "\n",
        "  def __call__(self,x):\n",
        "    if self.training:\n",
        "      #check the dimension to get correct mean and var\n",
        "      if x.ndim == 2 :\n",
        "        xdim = 0\n",
        "      if x.ndim == 3 :\n",
        "        xdim = (0,1)\n",
        "      #get the mean,std for the whole batch\n",
        "      xmean = x.mean(xdim , keepdim=True)\n",
        "      xvar = x.var(xdim, keepdim=True)\n",
        "    else:\n",
        "      xmean = self.running_mean\n",
        "      xvar = self.running_var\n",
        "    xhat = (x - xmean)/torch.sqrt(xvar + self.eps) #normalize Unit\n",
        "    self.out = self.gamma * xhat + self.beta\n",
        "    if self.training:\n",
        "      with torch.no_grad():\n",
        "        self.running_mean = (1 - self.momentum) * self.running_mean + self.momentum * xmean\n",
        "        self.running_var = ( 1 - self.momentum) * self.running_var + self.momentum * xvar\n",
        "    return self.out\n",
        "\n",
        "  def parameters(self):\n",
        "    return [self.gamma,self.beta]"
      ],
      "metadata": {
        "id": "GwOzhqsaEj9w"
      },
      "execution_count": 12,
      "outputs": []
    },
    {
      "cell_type": "code",
      "source": [
        "class Linear:\n",
        "  def __init__(self, fan_in, fan_out, bias=True):\n",
        "    self.weight = torch.randn(fan_in,fan_out)\n",
        "    self.bias = torch.randn(fan_out) if bias else None\n",
        "\n",
        "  def __call__(self,x):\n",
        "    self.out = x @ self.weight\n",
        "    if self.bias is not None:\n",
        "      self.out += self.bias\n",
        "    return self.out\n",
        "\n",
        "  def parameters(self):\n",
        "    return [self.weight] + ( [] if self.bias is None else [self.bias])"
      ],
      "metadata": {
        "id": "iEP3E0blCJHO"
      },
      "execution_count": 13,
      "outputs": []
    },
    {
      "cell_type": "code",
      "source": [
        "class Embedding:\n",
        "  def __init__(self, num_embedding , num_dim):\n",
        "    self.weight = torch.randn((num_embedding,num_dim)) #Create matrix weight\n",
        "\n",
        "  def __call__(self,IX):\n",
        "    self.out = self.weight[IX]\n",
        "    return self.out # return tensor\n",
        "\n",
        "  def parameters(self):\n",
        "    return [self.weight]"
      ],
      "metadata": {
        "id": "zB1vVRR55_w7"
      },
      "execution_count": 14,
      "outputs": []
    },
    {
      "cell_type": "code",
      "source": [
        "class FlattenConsecutive:\n",
        "  def __init__(self,n):\n",
        "    self.n = n\n",
        "\n",
        "  def __call__(self,x):\n",
        "    B, T, C = x.shape #get the shape of the batch\n",
        "    x = x.view(B, T//self.n , self.n*C) # instead of 1 data , pairs of 2 data will be fed in\n",
        "    if x.shape[1] == 1: # if batch has shape [N,1,:]\n",
        "      x = x.squeeze(dim=1)\n",
        "    self.out = x  # keep track the output by using self.out\n",
        "    return self.out\n",
        "\n",
        "  def parameters(self):\n",
        "    return []"
      ],
      "metadata": {
        "id": "PvM2zyV288x1"
      },
      "execution_count": 15,
      "outputs": []
    },
    {
      "cell_type": "code",
      "source": [
        "class Sequential:\n",
        "  def __init__(self,layers):\n",
        "    self.layers = layers\n",
        "\n",
        "  def __call__(self,x):\n",
        "    for layer in self.layers:\n",
        "      x = layer(x)\n",
        "    self.out = x\n",
        "    return self.out\n",
        "\n",
        "  def parameters(self):\n",
        "    return [p for layer in self.layers for p in layer.parameters()]"
      ],
      "metadata": {
        "id": "BfiU-QJX5dEa"
      },
      "execution_count": 16,
      "outputs": []
    },
    {
      "cell_type": "markdown",
      "source": [
        "## Training"
      ],
      "metadata": {
        "id": "zxBP6NKyNU1C"
      }
    },
    {
      "cell_type": "code",
      "source": [
        "torch.manual_seed(42)"
      ],
      "metadata": {
        "colab": {
          "base_uri": "https://localhost:8080/"
        },
        "id": "uHiW0q_Jdd0M",
        "outputId": "3e58bb0e-fa37-4efe-9918-a0672921fa27"
      },
      "execution_count": 17,
      "outputs": [
        {
          "output_type": "execute_result",
          "data": {
            "text/plain": [
              "<torch._C.Generator at 0x7f1f02c4aa30>"
            ]
          },
          "metadata": {},
          "execution_count": 17
        }
      ]
    },
    {
      "cell_type": "code",
      "source": [
        "n_embd = 10\n",
        "n_hidden = 200\n",
        "vocab_size = len(itos)"
      ],
      "metadata": {
        "id": "gx202bBS8umz"
      },
      "execution_count": 18,
      "outputs": []
    },
    {
      "cell_type": "code",
      "source": [
        "model = Sequential([\n",
        "    Embedding( vocab_size, n_embd),\n",
        "    FlattenConsecutive(2), Linear(n_embd*2 , n_hidden, bias=False),BatchNorm1d(n_hidden), Tanh(),\n",
        "    FlattenConsecutive(2), Linear(n_hidden*2 , n_hidden, bias=False),BatchNorm1d(n_hidden), Tanh(),\n",
        "    FlattenConsecutive(2), Linear(n_hidden*2 , n_hidden, bias=False),BatchNorm1d(n_hidden), Tanh(),\n",
        "    Linear( n_hidden , vocab_size)\n",
        "])"
      ],
      "metadata": {
        "id": "IbKe_pZc5e3c"
      },
      "execution_count": 19,
      "outputs": []
    },
    {
      "cell_type": "code",
      "source": [
        "with torch.no_grad():\n",
        "  model.layers[-1].weight *= 0.1 # last layer is less confident\n",
        "\n",
        "params = model.parameters()\n",
        "print(sum( e.nelement() for e in params))"
      ],
      "metadata": {
        "colab": {
          "base_uri": "https://localhost:8080/"
        },
        "id": "y1z7EbjZMAUU",
        "outputId": "240f87e5-c530-47c1-c392-c026b3d7681c"
      },
      "execution_count": 20,
      "outputs": [
        {
          "output_type": "stream",
          "name": "stdout",
          "text": [
            "170897\n"
          ]
        }
      ]
    },
    {
      "cell_type": "code",
      "source": [
        "#Require tracking gradient\n",
        "for p in model.parameters():\n",
        "  p.requires_grad = True"
      ],
      "metadata": {
        "id": "9CI-fqx8PrEB"
      },
      "execution_count": 21,
      "outputs": []
    },
    {
      "cell_type": "code",
      "source": [
        "max_steps = 200000\n",
        "batch_size = 32\n",
        "lossi = []"
      ],
      "metadata": {
        "id": "FvPIbPgUMmIP"
      },
      "execution_count": 22,
      "outputs": []
    },
    {
      "cell_type": "code",
      "source": [
        "for i in range(max_steps):\n",
        "  #Construct mini-batch\n",
        "  ix = torch.randint(0, X_train.shape[0], (batch_size,))\n",
        "  Xb,Yb = X_train[ix] , Y_train[ix]\n",
        "  #Forward Pass\n",
        "  logits = model(Xb)\n",
        "  #---- As same as : F.cross.entropy -------\n",
        "  logits_maxes = logits.max(1,keepdim=True).values\n",
        "  norm_logits = logits - logits_maxes #subtract the max\n",
        "  counts = norm_logits.exp()\n",
        "  counts_sum = counts.sum(1,keepdim=True)\n",
        "  counts_sum_inv = counts_sum**-1 # same as 1/counts_sum\n",
        "  probs = counts * counts_sum_inv # do elementwise\n",
        "  logprobs = probs.log()\n",
        "  loss = -logprobs[range(batch_size),Yb].mean()\n",
        "  #print(loss == F.cross_entropy(logits, Yb))\n",
        "  #---- As same as : F.cross.entropy -------\n",
        "  #Backward Pass\n",
        "  for p in model.parameters():\n",
        "    p.grad = None # reset gradients\n",
        "  loss.backward() # calculate gradients\n",
        "  lr = 0.1 if i < 150000 else 0.01 # learning weight decay\n",
        "  for p in model.parameters(): # update gradients\n",
        "    p.data += -lr * p.grad\n",
        "\n",
        "\n",
        "  # Track stats\n",
        "  if i % 10000 == 0:\n",
        "    print(f'{i:6d}/{max_steps:6d} ---- {loss.item():.4f}')\n",
        "  lossi.append(loss.log10().item())\n"
      ],
      "metadata": {
        "colab": {
          "base_uri": "https://localhost:8080/"
        },
        "id": "SDgW92mJNbFJ",
        "outputId": "0c66ef27-8b7d-4f47-e35b-753ed8a7ef34"
      },
      "execution_count": 23,
      "outputs": [
        {
          "output_type": "stream",
          "name": "stdout",
          "text": [
            "     0/200000 ---- 4.0110\n",
            " 10000/200000 ---- 1.8662\n",
            " 20000/200000 ---- 2.1649\n",
            " 30000/200000 ---- 1.9902\n",
            " 40000/200000 ---- 2.2596\n",
            " 50000/200000 ---- 2.0849\n",
            " 60000/200000 ---- 1.9144\n",
            " 70000/200000 ---- 2.1569\n",
            " 80000/200000 ---- 2.6884\n",
            " 90000/200000 ---- 2.2133\n",
            "100000/200000 ---- 2.3229\n",
            "110000/200000 ---- 1.9768\n",
            "120000/200000 ---- 1.8715\n",
            "130000/200000 ---- 2.0714\n",
            "140000/200000 ---- 1.7534\n",
            "150000/200000 ---- 1.9747\n",
            "160000/200000 ---- 1.9094\n",
            "170000/200000 ---- 1.8352\n",
            "180000/200000 ---- 2.3406\n",
            "190000/200000 ---- 2.2956\n"
          ]
        }
      ]
    },
    {
      "cell_type": "code",
      "source": [
        "for layer in model.layers:\n",
        "  print(layer.__class__.__name__, ':', tuple(layer.out.shape))"
      ],
      "metadata": {
        "colab": {
          "base_uri": "https://localhost:8080/"
        },
        "id": "KiYAQlgSbkbE",
        "outputId": "75acb808-a4bc-4769-a655-fe8d39e8b703"
      },
      "execution_count": 24,
      "outputs": [
        {
          "output_type": "stream",
          "name": "stdout",
          "text": [
            "Embedding : (32, 8, 10)\n",
            "FlattenConsecutive : (32, 4, 20)\n",
            "Linear : (32, 4, 200)\n",
            "BatchNorm1d : (32, 4, 200)\n",
            "Tanh : (32, 4, 200)\n",
            "FlattenConsecutive : (32, 2, 400)\n",
            "Linear : (32, 2, 200)\n",
            "BatchNorm1d : (32, 2, 200)\n",
            "Tanh : (32, 2, 200)\n",
            "FlattenConsecutive : (32, 400)\n",
            "Linear : (32, 200)\n",
            "BatchNorm1d : (32, 200)\n",
            "Tanh : (32, 200)\n",
            "Linear : (32, 27)\n"
          ]
        }
      ]
    },
    {
      "cell_type": "code",
      "source": [
        "interval = torch.tensor(lossi).view(-1,1000).mean(1)\n",
        "plt.plot(interval)"
      ],
      "metadata": {
        "colab": {
          "base_uri": "https://localhost:8080/",
          "height": 448
        },
        "id": "PPmznxzsOtP5",
        "outputId": "fa1662af-a859-495f-f5e5-2a673ab9f68c"
      },
      "execution_count": 25,
      "outputs": [
        {
          "output_type": "execute_result",
          "data": {
            "text/plain": [
              "[<matplotlib.lines.Line2D at 0x7f1e41fe31f0>]"
            ]
          },
          "metadata": {},
          "execution_count": 25
        },
        {
          "output_type": "display_data",
          "data": {
            "text/plain": [
              "<Figure size 640x480 with 1 Axes>"
            ],
            "image/png": "[encoded data removed]"
          },
          "metadata": {}
        }
      ]
    },
    {
      "cell_type": "code",
      "source": [],
      "metadata": {
        "id": "0wKwIp4LedNF"
      },
      "execution_count": 25,
      "outputs": []
    },
    {
      "cell_type": "markdown",
      "source": [
        "## Evaluation"
      ],
      "metadata": {
        "id": "uoUvgGz4noQa"
      }
    },
    {
      "cell_type": "code",
      "source": [
        "#set eval mode\n",
        "for layer in model.layers:\n",
        "  layer.training = False"
      ],
      "metadata": {
        "id": "REb7SmponqUt"
      },
      "execution_count": 26,
      "outputs": []
    },
    {
      "cell_type": "code",
      "source": [
        "#Evaluate  Loss\n",
        "@torch.no_grad()\n",
        "def stage(data_stage):\n",
        "  x,y = {\n",
        "      'train': (X_train, Y_train),\n",
        "      'val' : (X_dev,Y_dev),\n",
        "      'test' : (X_test,Y_test)\n",
        "  }[data_stage]\n",
        "  logits = model(x)\n",
        "  loss = F.cross_entropy(logits,y)\n",
        "  print(data_stage, loss.item())"
      ],
      "metadata": {
        "id": "sVbsMbwgnxqN"
      },
      "execution_count": 27,
      "outputs": []
    },
    {
      "cell_type": "code",
      "source": [
        "stage('train')\n",
        "stage('val')"
      ],
      "metadata": {
        "colab": {
          "base_uri": "https://localhost:8080/"
        },
        "id": "KYYoy5uroUk_",
        "outputId": "1c8a0ed0-02c4-4ee4-9593-9f7f1fb40338"
      },
      "execution_count": 28,
      "outputs": [
        {
          "output_type": "stream",
          "name": "stdout",
          "text": [
            "train 1.9742501974105835\n",
            "val 2.0475003719329834\n"
          ]
        }
      ]
    },
    {
      "cell_type": "markdown",
      "source": [
        "## Get Sample From Training Model"
      ],
      "metadata": {
        "id": "5M-kelJmzZPr"
      }
    },
    {
      "cell_type": "code",
      "source": [
        "for _ in range(20):\n",
        "  out = []\n",
        "  context = [0] * block_size\n",
        "  while True:\n",
        "    #Forwardpass the network\n",
        "    logits = model(torch.tensor([context]))\n",
        "    probs = F.softmax(logits, dim=1)\n",
        "    # sample from the distribution\n",
        "    ix = torch.multinomial(probs, num_samples=1).item()\n",
        "    #update context\n",
        "    context = context[1:] + [ix]\n",
        "    out.append(ix)\n",
        "    #if dot in sample\n",
        "    if ix == 0:\n",
        "      break\n",
        "  print(''.join(itos[i] for i in out))\n"
      ],
      "metadata": {
        "colab": {
          "base_uri": "https://localhost:8080/"
        },
        "id": "pSJXa4TDzdB4",
        "outputId": "b8b45916-5ac7-450e-8e88-f3a453fdd333"
      },
      "execution_count": 43,
      "outputs": [
        {
          "output_type": "stream",
          "name": "stdout",
          "text": [
            "raeda.\n",
            "brilyn.\n",
            "lynne.\n",
            "marion.\n",
            "taiden.\n",
            "jene.\n",
            "saygan.\n",
            "a.\n",
            "feston.\n",
            "aylanian.\n",
            "annaliei.\n",
            "luhb.\n",
            "teot.\n",
            "nenmhhon.\n",
            "nazanta.\n",
            "cellery.\n",
            "ameniha.\n",
            "macaryna.\n",
            "korriyah.\n",
            "areya.\n"
          ]
        }
      ]
    },
    {
      "cell_type": "code",
      "source": [],
      "metadata": {
        "id": "QwANPYD00ZzX"
      },
      "execution_count": null,
      "outputs": []
    }
  ]
}